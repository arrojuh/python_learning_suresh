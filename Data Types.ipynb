{
 "cells": [
  {
   "cell_type": "markdown",
   "id": "e648055c",
   "metadata": {},
   "source": [
    "# Data Types"
   ]
  },
  {
   "cell_type": "markdown",
   "id": "6a33f0bb",
   "metadata": {},
   "source": [
    "#### Integer"
   ]
  },
  {
   "cell_type": "code",
   "execution_count": 1,
   "id": "2d490685",
   "metadata": {},
   "outputs": [],
   "source": [
    "a = 1"
   ]
  },
  {
   "cell_type": "code",
   "execution_count": 2,
   "id": "fd4cfe44",
   "metadata": {},
   "outputs": [
    {
     "data": {
      "text/plain": [
       "int"
      ]
     },
     "execution_count": 2,
     "metadata": {},
     "output_type": "execute_result"
    }
   ],
   "source": [
    "type(1)"
   ]
  },
  {
   "cell_type": "code",
   "execution_count": 3,
   "id": "f6c895cb",
   "metadata": {},
   "outputs": [],
   "source": [
    "b = 1.0"
   ]
  },
  {
   "cell_type": "markdown",
   "id": "285d0470",
   "metadata": {},
   "source": [
    "#### Float"
   ]
  },
  {
   "cell_type": "code",
   "execution_count": 4,
   "id": "aff389aa",
   "metadata": {
    "scrolled": true
   },
   "outputs": [
    {
     "data": {
      "text/plain": [
       "float"
      ]
     },
     "execution_count": 4,
     "metadata": {},
     "output_type": "execute_result"
    }
   ],
   "source": [
    "type(b)"
   ]
  },
  {
   "cell_type": "code",
   "execution_count": 8,
   "id": "f2c31fed",
   "metadata": {},
   "outputs": [],
   "source": [
    "c = 123456.0334599892"
   ]
  },
  {
   "cell_type": "code",
   "execution_count": 9,
   "id": "5bbe9e4e",
   "metadata": {},
   "outputs": [
    {
     "data": {
      "text/plain": [
       "float"
      ]
     },
     "execution_count": 9,
     "metadata": {},
     "output_type": "execute_result"
    }
   ],
   "source": [
    "type(c)"
   ]
  },
  {
   "cell_type": "markdown",
   "id": "a005dbdc",
   "metadata": {},
   "source": [
    "#### String"
   ]
  },
  {
   "cell_type": "code",
   "execution_count": 10,
   "id": "845e7865",
   "metadata": {},
   "outputs": [],
   "source": [
    "d= '1a%=mcokjofwj9u===302949'"
   ]
  },
  {
   "cell_type": "code",
   "execution_count": 11,
   "id": "6f82524b",
   "metadata": {},
   "outputs": [
    {
     "data": {
      "text/plain": [
       "str"
      ]
     },
     "execution_count": 11,
     "metadata": {},
     "output_type": "execute_result"
    }
   ],
   "source": [
    "type(d)"
   ]
  },
  {
   "cell_type": "code",
   "execution_count": 12,
   "id": "fc221bf0",
   "metadata": {},
   "outputs": [],
   "source": [
    "e = '1'"
   ]
  },
  {
   "cell_type": "code",
   "execution_count": 42,
   "id": "475f439c",
   "metadata": {},
   "outputs": [],
   "source": [
    "f = '123'"
   ]
  },
  {
   "cell_type": "code",
   "execution_count": 14,
   "id": "bcdda1c3",
   "metadata": {},
   "outputs": [
    {
     "data": {
      "text/plain": [
       "1"
      ]
     },
     "execution_count": 14,
     "metadata": {},
     "output_type": "execute_result"
    }
   ],
   "source": [
    "len(e)"
   ]
  },
  {
   "cell_type": "code",
   "execution_count": 15,
   "id": "2d0abfb9",
   "metadata": {},
   "outputs": [
    {
     "data": {
      "text/plain": [
       "3"
      ]
     },
     "execution_count": 15,
     "metadata": {},
     "output_type": "execute_result"
    }
   ],
   "source": [
    "len(f)"
   ]
  },
  {
   "cell_type": "code",
   "execution_count": 16,
   "id": "075e12a9",
   "metadata": {},
   "outputs": [
    {
     "data": {
      "text/plain": [
       "123"
      ]
     },
     "execution_count": 16,
     "metadata": {},
     "output_type": "execute_result"
    }
   ],
   "source": [
    "int(f)"
   ]
  },
  {
   "cell_type": "code",
   "execution_count": 18,
   "id": "061a48e3",
   "metadata": {},
   "outputs": [
    {
     "data": {
      "text/plain": [
       "str"
      ]
     },
     "execution_count": 18,
     "metadata": {},
     "output_type": "execute_result"
    }
   ],
   "source": [
    "type(f)"
   ]
  },
  {
   "cell_type": "markdown",
   "id": "e413166b",
   "metadata": {},
   "source": [
    "#### Boolean"
   ]
  },
  {
   "cell_type": "code",
   "execution_count": 97,
   "id": "1bff694c",
   "metadata": {},
   "outputs": [],
   "source": [
    "t = True #1"
   ]
  },
  {
   "cell_type": "code",
   "execution_count": 93,
   "id": "286cad85",
   "metadata": {},
   "outputs": [],
   "source": [
    "y = False #0"
   ]
  },
  {
   "cell_type": "code",
   "execution_count": 98,
   "id": "fa7b4150",
   "metadata": {},
   "outputs": [
    {
     "data": {
      "text/plain": [
       "True"
      ]
     },
     "execution_count": 98,
     "metadata": {},
     "output_type": "execute_result"
    }
   ],
   "source": [
    "t == True"
   ]
  },
  {
   "cell_type": "code",
   "execution_count": 99,
   "id": "0a6a5098",
   "metadata": {},
   "outputs": [
    {
     "data": {
      "text/plain": [
       "False"
      ]
     },
     "execution_count": 99,
     "metadata": {},
     "output_type": "execute_result"
    }
   ],
   "source": [
    "y == True"
   ]
  },
  {
   "cell_type": "markdown",
   "id": "c84b4969",
   "metadata": {},
   "source": [
    "#### None"
   ]
  },
  {
   "cell_type": "code",
   "execution_count": 168,
   "id": "88c932a2",
   "metadata": {},
   "outputs": [],
   "source": [
    "#'',None,NaN"
   ]
  },
  {
   "cell_type": "code",
   "execution_count": 106,
   "id": "156a4850",
   "metadata": {},
   "outputs": [],
   "source": [
    "k = None"
   ]
  },
  {
   "cell_type": "code",
   "execution_count": 109,
   "id": "8111fc05",
   "metadata": {
    "scrolled": true
   },
   "outputs": [
    {
     "name": "stdout",
     "output_type": "stream",
     "text": [
      "None\n"
     ]
    }
   ],
   "source": [
    "print(k)"
   ]
  },
  {
   "cell_type": "code",
   "execution_count": 104,
   "id": "c9c6af2b",
   "metadata": {},
   "outputs": [
    {
     "data": {
      "text/plain": [
       "NoneType"
      ]
     },
     "execution_count": 104,
     "metadata": {},
     "output_type": "execute_result"
    }
   ],
   "source": [
    "type(None)"
   ]
  },
  {
   "cell_type": "code",
   "execution_count": 142,
   "id": "992d29a9",
   "metadata": {},
   "outputs": [],
   "source": [
    "import numpy as np"
   ]
  },
  {
   "cell_type": "code",
   "execution_count": 144,
   "id": "e1203e5d",
   "metadata": {
    "scrolled": true
   },
   "outputs": [],
   "source": [
    "ty = np.NaN"
   ]
  },
  {
   "cell_type": "code",
   "execution_count": 147,
   "id": "9258b062",
   "metadata": {},
   "outputs": [],
   "source": [
    "py = ''"
   ]
  },
  {
   "cell_type": "code",
   "execution_count": 150,
   "id": "c3a7f50c",
   "metadata": {},
   "outputs": [
    {
     "data": {
      "text/plain": [
       "(float, str, NoneType)"
      ]
     },
     "execution_count": 150,
     "metadata": {},
     "output_type": "execute_result"
    }
   ],
   "source": [
    "type(ty),type(py),type(k)"
   ]
  },
  {
   "cell_type": "code",
   "execution_count": 151,
   "id": "575a7564",
   "metadata": {},
   "outputs": [
    {
     "data": {
      "text/plain": [
       "False"
      ]
     },
     "execution_count": 151,
     "metadata": {},
     "output_type": "execute_result"
    }
   ],
   "source": [
    "k == ty"
   ]
  },
  {
   "cell_type": "code",
   "execution_count": 152,
   "id": "d687b709",
   "metadata": {},
   "outputs": [
    {
     "data": {
      "text/plain": [
       "False"
      ]
     },
     "execution_count": 152,
     "metadata": {},
     "output_type": "execute_result"
    }
   ],
   "source": [
    "ty == py"
   ]
  },
  {
   "cell_type": "code",
   "execution_count": 153,
   "id": "8dfa41ce",
   "metadata": {},
   "outputs": [
    {
     "data": {
      "text/plain": [
       "False"
      ]
     },
     "execution_count": 153,
     "metadata": {},
     "output_type": "execute_result"
    }
   ],
   "source": [
    "py == k"
   ]
  },
  {
   "cell_type": "code",
   "execution_count": 156,
   "id": "129b147b",
   "metadata": {},
   "outputs": [
    {
     "data": {
      "text/plain": [
       "0"
      ]
     },
     "execution_count": 156,
     "metadata": {},
     "output_type": "execute_result"
    }
   ],
   "source": [
    "len(py)"
   ]
  },
  {
   "cell_type": "code",
   "execution_count": 148,
   "id": "fdf808b5",
   "metadata": {
    "scrolled": true
   },
   "outputs": [
    {
     "name": "stdout",
     "output_type": "stream",
     "text": [
      "\n"
     ]
    }
   ],
   "source": [
    "print(py)"
   ]
  },
  {
   "cell_type": "code",
   "execution_count": 146,
   "id": "61e7f5e5",
   "metadata": {
    "scrolled": true
   },
   "outputs": [
    {
     "name": "stdout",
     "output_type": "stream",
     "text": [
      "None\n"
     ]
    }
   ],
   "source": [
    "print(k)"
   ]
  },
  {
   "cell_type": "code",
   "execution_count": 145,
   "id": "21feffa4",
   "metadata": {
    "scrolled": true
   },
   "outputs": [
    {
     "name": "stdout",
     "output_type": "stream",
     "text": [
      "nan\n"
     ]
    }
   ],
   "source": [
    "print(ty)"
   ]
  },
  {
   "cell_type": "markdown",
   "id": "6ba57674",
   "metadata": {},
   "source": [
    "#### Date"
   ]
  },
  {
   "cell_type": "code",
   "execution_count": 169,
   "id": "3ef60ec9",
   "metadata": {},
   "outputs": [],
   "source": [
    "import datetime"
   ]
  },
  {
   "cell_type": "code",
   "execution_count": 170,
   "id": "f4e47895",
   "metadata": {},
   "outputs": [],
   "source": [
    "y = datetime.datetime.now()"
   ]
  },
  {
   "cell_type": "code",
   "execution_count": 171,
   "id": "9667e330",
   "metadata": {},
   "outputs": [
    {
     "data": {
      "text/plain": [
       "datetime.datetime(2024, 12, 5, 19, 9, 55, 273864)"
      ]
     },
     "execution_count": 171,
     "metadata": {},
     "output_type": "execute_result"
    }
   ],
   "source": [
    "y"
   ]
  },
  {
   "cell_type": "code",
   "execution_count": 172,
   "id": "4a4566b5",
   "metadata": {},
   "outputs": [
    {
     "data": {
      "text/plain": [
       "Timestamp('2024-12-05 19:09:55.273864')"
      ]
     },
     "execution_count": 172,
     "metadata": {},
     "output_type": "execute_result"
    }
   ],
   "source": [
    "pd.to_datetime(y)"
   ]
  }
 ],
 "metadata": {
  "kernelspec": {
   "display_name": "Python 3 (ipykernel)",
   "language": "python",
   "name": "python3"
  },
  "language_info": {
   "codemirror_mode": {
    "name": "ipython",
    "version": 3
   },
   "file_extension": ".py",
   "mimetype": "text/x-python",
   "name": "python",
   "nbconvert_exporter": "python",
   "pygments_lexer": "ipython3",
   "version": "3.9.12"
  }
 },
 "nbformat": 4,
 "nbformat_minor": 5
}
